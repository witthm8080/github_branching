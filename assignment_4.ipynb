{
 "cells": [
  {
   "cell_type": "markdown",
   "id": "ff443e6e",
   "metadata": {},
   "source": [
    "# Assignment 4\n",
    "### Do three of six."
   ]
  },
  {
   "cell_type": "markdown",
   "id": "47949236",
   "metadata": {},
   "source": [
    "### Exercise 1: Contingent Comparisons\n",
    "- Load the Minnesota use of force data.\n",
    "- Bootstrap the proportion of missing values for `subject_injury` for each race, and plot the results with grouped KDE and ECDF plots\n",
    "- Describe what you see. When we consider second order uncertainty, how similar or different are the sampling distributions of these proportions? "
   ]
  },
  {
   "cell_type": "markdown",
   "id": "18fdd9ba",
   "metadata": {},
   "source": [
    "### Exercise 2: Invitation to Inference\n",
    "- Run the simulation code line by line and comment what each line is doing, or write your own code to do the resampling\n",
    "- Open the NHANES or Ames prices or College Completion data\n",
    "- Use the above function `simulate` to get a sample of estimates for your statistic and your data\n",
    "- Create a new function, `interval(L,H,estimates)`, that computes the $L$-th and $H$-th quantiles for your estimates, $H>L$\n",
    "- If $L=.05$ and $H=.95$, this is a **90-percent confidence interval**: \"For our statistic, this interval captures the true value of the population parameter 90 percent of the time. (We are 90% **confident** that it includes the true value of the parameter, but the probability that the true parameter lies in this interval is 0 or 1.)\"\n",
    "- We will spend much more time on this later in class, but for people who have done hypothesis testing before, you now know how to do it directly from the data: No central limit theorem required."
   ]
  },
  {
   "cell_type": "code",
   "execution_count": 5,
   "id": "b440cf06",
   "metadata": {},
   "outputs": [],
   "source": [
    "# Import Libraries: \n",
    "import pandas as pd\n",
    "import numpy as np\n",
    "import seaborn as sns\n",
    "import matplotlib.pyplot as plt\n",
    "import plotly.express as px"
   ]
  },
  {
   "cell_type": "code",
   "execution_count": 12,
   "id": "4007bad2",
   "metadata": {},
   "outputs": [
    {
     "data": {
      "application/vnd.microsoft.datawrangler.viewer.v0+json": {
       "columns": [
        {
         "name": "index",
         "rawType": "int64",
         "type": "integer"
        },
        {
         "name": "Order",
         "rawType": "int64",
         "type": "integer"
        },
        {
         "name": "PID",
         "rawType": "int64",
         "type": "integer"
        },
        {
         "name": "area",
         "rawType": "int64",
         "type": "integer"
        },
        {
         "name": "price",
         "rawType": "int64",
         "type": "integer"
        },
        {
         "name": "MS.SubClass",
         "rawType": "int64",
         "type": "integer"
        },
        {
         "name": "MS.Zoning",
         "rawType": "object",
         "type": "string"
        },
        {
         "name": "Lot.Frontage",
         "rawType": "float64",
         "type": "float"
        },
        {
         "name": "Lot.Area",
         "rawType": "int64",
         "type": "integer"
        },
        {
         "name": "Street",
         "rawType": "object",
         "type": "string"
        },
        {
         "name": "Alley",
         "rawType": "object",
         "type": "unknown"
        },
        {
         "name": "Lot.Shape",
         "rawType": "object",
         "type": "string"
        },
        {
         "name": "Land.Contour",
         "rawType": "object",
         "type": "string"
        },
        {
         "name": "Utilities",
         "rawType": "object",
         "type": "string"
        },
        {
         "name": "Lot.Config",
         "rawType": "object",
         "type": "string"
        },
        {
         "name": "Land.Slope",
         "rawType": "object",
         "type": "string"
        },
        {
         "name": "Neighborhood",
         "rawType": "object",
         "type": "string"
        },
        {
         "name": "Condition.1",
         "rawType": "object",
         "type": "string"
        },
        {
         "name": "Condition.2",
         "rawType": "object",
         "type": "string"
        },
        {
         "name": "Bldg.Type",
         "rawType": "object",
         "type": "string"
        },
        {
         "name": "House.Style",
         "rawType": "object",
         "type": "string"
        },
        {
         "name": "Overall.Qual",
         "rawType": "int64",
         "type": "integer"
        },
        {
         "name": "Overall.Cond",
         "rawType": "int64",
         "type": "integer"
        },
        {
         "name": "Year.Built",
         "rawType": "int64",
         "type": "integer"
        },
        {
         "name": "Year.Remod.Add",
         "rawType": "int64",
         "type": "integer"
        },
        {
         "name": "Roof.Style",
         "rawType": "object",
         "type": "string"
        },
        {
         "name": "Roof.Matl",
         "rawType": "object",
         "type": "string"
        },
        {
         "name": "Exterior.1st",
         "rawType": "object",
         "type": "string"
        },
        {
         "name": "Exterior.2nd",
         "rawType": "object",
         "type": "string"
        },
        {
         "name": "Mas.Vnr.Type",
         "rawType": "object",
         "type": "unknown"
        },
        {
         "name": "Mas.Vnr.Area",
         "rawType": "float64",
         "type": "float"
        },
        {
         "name": "Exter.Qual",
         "rawType": "object",
         "type": "string"
        },
        {
         "name": "Exter.Cond",
         "rawType": "object",
         "type": "string"
        },
        {
         "name": "Foundation",
         "rawType": "object",
         "type": "string"
        },
        {
         "name": "Bsmt.Qual",
         "rawType": "object",
         "type": "string"
        },
        {
         "name": "Bsmt.Cond",
         "rawType": "object",
         "type": "string"
        },
        {
         "name": "Bsmt.Exposure",
         "rawType": "object",
         "type": "string"
        },
        {
         "name": "BsmtFin.Type.1",
         "rawType": "object",
         "type": "string"
        },
        {
         "name": "BsmtFin.SF.1",
         "rawType": "float64",
         "type": "float"
        },
        {
         "name": "BsmtFin.Type.2",
         "rawType": "object",
         "type": "string"
        },
        {
         "name": "BsmtFin.SF.2",
         "rawType": "float64",
         "type": "float"
        },
        {
         "name": "Bsmt.Unf.SF",
         "rawType": "float64",
         "type": "float"
        },
        {
         "name": "Total.Bsmt.SF",
         "rawType": "float64",
         "type": "float"
        },
        {
         "name": "Heating",
         "rawType": "object",
         "type": "string"
        },
        {
         "name": "Heating.QC",
         "rawType": "object",
         "type": "string"
        },
        {
         "name": "Central.Air",
         "rawType": "object",
         "type": "string"
        },
        {
         "name": "Electrical",
         "rawType": "object",
         "type": "string"
        },
        {
         "name": "X1st.Flr.SF",
         "rawType": "int64",
         "type": "integer"
        },
        {
         "name": "X2nd.Flr.SF",
         "rawType": "int64",
         "type": "integer"
        },
        {
         "name": "Low.Qual.Fin.SF",
         "rawType": "int64",
         "type": "integer"
        },
        {
         "name": "Bsmt.Full.Bath",
         "rawType": "float64",
         "type": "float"
        },
        {
         "name": "Bsmt.Half.Bath",
         "rawType": "float64",
         "type": "float"
        },
        {
         "name": "Full.Bath",
         "rawType": "int64",
         "type": "integer"
        },
        {
         "name": "Half.Bath",
         "rawType": "int64",
         "type": "integer"
        },
        {
         "name": "Bedroom.AbvGr",
         "rawType": "int64",
         "type": "integer"
        },
        {
         "name": "Kitchen.AbvGr",
         "rawType": "int64",
         "type": "integer"
        },
        {
         "name": "Kitchen.Qual",
         "rawType": "object",
         "type": "string"
        },
        {
         "name": "TotRms.AbvGrd",
         "rawType": "int64",
         "type": "integer"
        },
        {
         "name": "Functional",
         "rawType": "object",
         "type": "string"
        },
        {
         "name": "Fireplaces",
         "rawType": "int64",
         "type": "integer"
        },
        {
         "name": "Fireplace.Qu",
         "rawType": "object",
         "type": "unknown"
        },
        {
         "name": "Garage.Type",
         "rawType": "object",
         "type": "string"
        },
        {
         "name": "Garage.Yr.Blt",
         "rawType": "float64",
         "type": "float"
        },
        {
         "name": "Garage.Finish",
         "rawType": "object",
         "type": "string"
        },
        {
         "name": "Garage.Cars",
         "rawType": "float64",
         "type": "float"
        },
        {
         "name": "Garage.Area",
         "rawType": "float64",
         "type": "float"
        },
        {
         "name": "Garage.Qual",
         "rawType": "object",
         "type": "string"
        },
        {
         "name": "Garage.Cond",
         "rawType": "object",
         "type": "string"
        },
        {
         "name": "Paved.Drive",
         "rawType": "object",
         "type": "string"
        },
        {
         "name": "Wood.Deck.SF",
         "rawType": "int64",
         "type": "integer"
        },
        {
         "name": "Open.Porch.SF",
         "rawType": "int64",
         "type": "integer"
        },
        {
         "name": "Enclosed.Porch",
         "rawType": "int64",
         "type": "integer"
        },
        {
         "name": "X3Ssn.Porch",
         "rawType": "int64",
         "type": "integer"
        },
        {
         "name": "Screen.Porch",
         "rawType": "int64",
         "type": "integer"
        },
        {
         "name": "Pool.Area",
         "rawType": "int64",
         "type": "integer"
        },
        {
         "name": "Pool.QC",
         "rawType": "object",
         "type": "unknown"
        },
        {
         "name": "Fence",
         "rawType": "object",
         "type": "unknown"
        },
        {
         "name": "Misc.Feature",
         "rawType": "object",
         "type": "unknown"
        },
        {
         "name": "Misc.Val",
         "rawType": "int64",
         "type": "integer"
        },
        {
         "name": "Mo.Sold",
         "rawType": "int64",
         "type": "integer"
        },
        {
         "name": "Yr.Sold",
         "rawType": "int64",
         "type": "integer"
        },
        {
         "name": "Sale.Type",
         "rawType": "object",
         "type": "string"
        },
        {
         "name": "Sale.Condition",
         "rawType": "object",
         "type": "string"
        }
       ],
       "ref": "91f7dce6-3750-4129-a91c-359ee31b150d",
       "rows": [
        [
         "0",
         "1",
         "526301100",
         "1656",
         "215000",
         "20",
         "RL",
         "141.0",
         "31770",
         "Pave",
         null,
         "IR1",
         "Lvl",
         "AllPub",
         "Corner",
         "Gtl",
         "NAmes",
         "Norm",
         "Norm",
         "1Fam",
         "1Story",
         "6",
         "5",
         "1960",
         "1960",
         "Hip",
         "CompShg",
         "BrkFace",
         "Plywood",
         "Stone",
         "112.0",
         "TA",
         "TA",
         "CBlock",
         "TA",
         "Gd",
         "Gd",
         "BLQ",
         "639.0",
         "Unf",
         "0.0",
         "441.0",
         "1080.0",
         "GasA",
         "Fa",
         "Y",
         "SBrkr",
         "1656",
         "0",
         "0",
         "1.0",
         "0.0",
         "1",
         "0",
         "3",
         "1",
         "TA",
         "7",
         "Typ",
         "2",
         "Gd",
         "Attchd",
         "1960.0",
         "Fin",
         "2.0",
         "528.0",
         "TA",
         "TA",
         "P",
         "210",
         "62",
         "0",
         "0",
         "0",
         "0",
         null,
         null,
         null,
         "0",
         "5",
         "2010",
         "WD ",
         "Normal"
        ],
        [
         "1",
         "2",
         "526350040",
         "896",
         "105000",
         "20",
         "RH",
         "80.0",
         "11622",
         "Pave",
         null,
         "Reg",
         "Lvl",
         "AllPub",
         "Inside",
         "Gtl",
         "NAmes",
         "Feedr",
         "Norm",
         "1Fam",
         "1Story",
         "5",
         "6",
         "1961",
         "1961",
         "Gable",
         "CompShg",
         "VinylSd",
         "VinylSd",
         null,
         "0.0",
         "TA",
         "TA",
         "CBlock",
         "TA",
         "TA",
         "No",
         "Rec",
         "468.0",
         "LwQ",
         "144.0",
         "270.0",
         "882.0",
         "GasA",
         "TA",
         "Y",
         "SBrkr",
         "896",
         "0",
         "0",
         "0.0",
         "0.0",
         "1",
         "0",
         "2",
         "1",
         "TA",
         "5",
         "Typ",
         "0",
         null,
         "Attchd",
         "1961.0",
         "Unf",
         "1.0",
         "730.0",
         "TA",
         "TA",
         "Y",
         "140",
         "0",
         "0",
         "0",
         "120",
         "0",
         null,
         "MnPrv",
         null,
         "0",
         "6",
         "2010",
         "WD ",
         "Normal"
        ],
        [
         "2",
         "3",
         "526351010",
         "1329",
         "172000",
         "20",
         "RL",
         "81.0",
         "14267",
         "Pave",
         null,
         "IR1",
         "Lvl",
         "AllPub",
         "Corner",
         "Gtl",
         "NAmes",
         "Norm",
         "Norm",
         "1Fam",
         "1Story",
         "6",
         "6",
         "1958",
         "1958",
         "Hip",
         "CompShg",
         "Wd Sdng",
         "Wd Sdng",
         "BrkFace",
         "108.0",
         "TA",
         "TA",
         "CBlock",
         "TA",
         "TA",
         "No",
         "ALQ",
         "923.0",
         "Unf",
         "0.0",
         "406.0",
         "1329.0",
         "GasA",
         "TA",
         "Y",
         "SBrkr",
         "1329",
         "0",
         "0",
         "0.0",
         "0.0",
         "1",
         "1",
         "3",
         "1",
         "Gd",
         "6",
         "Typ",
         "0",
         null,
         "Attchd",
         "1958.0",
         "Unf",
         "1.0",
         "312.0",
         "TA",
         "TA",
         "Y",
         "393",
         "36",
         "0",
         "0",
         "0",
         "0",
         null,
         null,
         "Gar2",
         "12500",
         "6",
         "2010",
         "WD ",
         "Normal"
        ],
        [
         "3",
         "4",
         "526353030",
         "2110",
         "244000",
         "20",
         "RL",
         "93.0",
         "11160",
         "Pave",
         null,
         "Reg",
         "Lvl",
         "AllPub",
         "Corner",
         "Gtl",
         "NAmes",
         "Norm",
         "Norm",
         "1Fam",
         "1Story",
         "7",
         "5",
         "1968",
         "1968",
         "Hip",
         "CompShg",
         "BrkFace",
         "BrkFace",
         null,
         "0.0",
         "Gd",
         "TA",
         "CBlock",
         "TA",
         "TA",
         "No",
         "ALQ",
         "1065.0",
         "Unf",
         "0.0",
         "1045.0",
         "2110.0",
         "GasA",
         "Ex",
         "Y",
         "SBrkr",
         "2110",
         "0",
         "0",
         "1.0",
         "0.0",
         "2",
         "1",
         "3",
         "1",
         "Ex",
         "8",
         "Typ",
         "2",
         "TA",
         "Attchd",
         "1968.0",
         "Fin",
         "2.0",
         "522.0",
         "TA",
         "TA",
         "Y",
         "0",
         "0",
         "0",
         "0",
         "0",
         "0",
         null,
         null,
         null,
         "0",
         "4",
         "2010",
         "WD ",
         "Normal"
        ],
        [
         "4",
         "5",
         "527105010",
         "1629",
         "189900",
         "60",
         "RL",
         "74.0",
         "13830",
         "Pave",
         null,
         "IR1",
         "Lvl",
         "AllPub",
         "Inside",
         "Gtl",
         "Gilbert",
         "Norm",
         "Norm",
         "1Fam",
         "2Story",
         "5",
         "5",
         "1997",
         "1998",
         "Gable",
         "CompShg",
         "VinylSd",
         "VinylSd",
         null,
         "0.0",
         "TA",
         "TA",
         "PConc",
         "Gd",
         "TA",
         "No",
         "GLQ",
         "791.0",
         "Unf",
         "0.0",
         "137.0",
         "928.0",
         "GasA",
         "Gd",
         "Y",
         "SBrkr",
         "928",
         "701",
         "0",
         "0.0",
         "0.0",
         "2",
         "1",
         "3",
         "1",
         "TA",
         "6",
         "Typ",
         "1",
         "TA",
         "Attchd",
         "1997.0",
         "Fin",
         "2.0",
         "482.0",
         "TA",
         "TA",
         "Y",
         "212",
         "34",
         "0",
         "0",
         "0",
         "0",
         null,
         "MnPrv",
         null,
         "0",
         "3",
         "2010",
         "WD ",
         "Normal"
        ]
       ],
       "shape": {
        "columns": 82,
        "rows": 5
       }
      },
      "text/html": [
       "<div>\n",
       "<style scoped>\n",
       "    .dataframe tbody tr th:only-of-type {\n",
       "        vertical-align: middle;\n",
       "    }\n",
       "\n",
       "    .dataframe tbody tr th {\n",
       "        vertical-align: top;\n",
       "    }\n",
       "\n",
       "    .dataframe thead th {\n",
       "        text-align: right;\n",
       "    }\n",
       "</style>\n",
       "<table border=\"1\" class=\"dataframe\">\n",
       "  <thead>\n",
       "    <tr style=\"text-align: right;\">\n",
       "      <th></th>\n",
       "      <th>Order</th>\n",
       "      <th>PID</th>\n",
       "      <th>area</th>\n",
       "      <th>price</th>\n",
       "      <th>MS.SubClass</th>\n",
       "      <th>MS.Zoning</th>\n",
       "      <th>Lot.Frontage</th>\n",
       "      <th>Lot.Area</th>\n",
       "      <th>Street</th>\n",
       "      <th>Alley</th>\n",
       "      <th>...</th>\n",
       "      <th>Screen.Porch</th>\n",
       "      <th>Pool.Area</th>\n",
       "      <th>Pool.QC</th>\n",
       "      <th>Fence</th>\n",
       "      <th>Misc.Feature</th>\n",
       "      <th>Misc.Val</th>\n",
       "      <th>Mo.Sold</th>\n",
       "      <th>Yr.Sold</th>\n",
       "      <th>Sale.Type</th>\n",
       "      <th>Sale.Condition</th>\n",
       "    </tr>\n",
       "  </thead>\n",
       "  <tbody>\n",
       "    <tr>\n",
       "      <th>0</th>\n",
       "      <td>1</td>\n",
       "      <td>526301100</td>\n",
       "      <td>1656</td>\n",
       "      <td>215000</td>\n",
       "      <td>20</td>\n",
       "      <td>RL</td>\n",
       "      <td>141.0</td>\n",
       "      <td>31770</td>\n",
       "      <td>Pave</td>\n",
       "      <td>NaN</td>\n",
       "      <td>...</td>\n",
       "      <td>0</td>\n",
       "      <td>0</td>\n",
       "      <td>NaN</td>\n",
       "      <td>NaN</td>\n",
       "      <td>NaN</td>\n",
       "      <td>0</td>\n",
       "      <td>5</td>\n",
       "      <td>2010</td>\n",
       "      <td>WD</td>\n",
       "      <td>Normal</td>\n",
       "    </tr>\n",
       "    <tr>\n",
       "      <th>1</th>\n",
       "      <td>2</td>\n",
       "      <td>526350040</td>\n",
       "      <td>896</td>\n",
       "      <td>105000</td>\n",
       "      <td>20</td>\n",
       "      <td>RH</td>\n",
       "      <td>80.0</td>\n",
       "      <td>11622</td>\n",
       "      <td>Pave</td>\n",
       "      <td>NaN</td>\n",
       "      <td>...</td>\n",
       "      <td>120</td>\n",
       "      <td>0</td>\n",
       "      <td>NaN</td>\n",
       "      <td>MnPrv</td>\n",
       "      <td>NaN</td>\n",
       "      <td>0</td>\n",
       "      <td>6</td>\n",
       "      <td>2010</td>\n",
       "      <td>WD</td>\n",
       "      <td>Normal</td>\n",
       "    </tr>\n",
       "    <tr>\n",
       "      <th>2</th>\n",
       "      <td>3</td>\n",
       "      <td>526351010</td>\n",
       "      <td>1329</td>\n",
       "      <td>172000</td>\n",
       "      <td>20</td>\n",
       "      <td>RL</td>\n",
       "      <td>81.0</td>\n",
       "      <td>14267</td>\n",
       "      <td>Pave</td>\n",
       "      <td>NaN</td>\n",
       "      <td>...</td>\n",
       "      <td>0</td>\n",
       "      <td>0</td>\n",
       "      <td>NaN</td>\n",
       "      <td>NaN</td>\n",
       "      <td>Gar2</td>\n",
       "      <td>12500</td>\n",
       "      <td>6</td>\n",
       "      <td>2010</td>\n",
       "      <td>WD</td>\n",
       "      <td>Normal</td>\n",
       "    </tr>\n",
       "    <tr>\n",
       "      <th>3</th>\n",
       "      <td>4</td>\n",
       "      <td>526353030</td>\n",
       "      <td>2110</td>\n",
       "      <td>244000</td>\n",
       "      <td>20</td>\n",
       "      <td>RL</td>\n",
       "      <td>93.0</td>\n",
       "      <td>11160</td>\n",
       "      <td>Pave</td>\n",
       "      <td>NaN</td>\n",
       "      <td>...</td>\n",
       "      <td>0</td>\n",
       "      <td>0</td>\n",
       "      <td>NaN</td>\n",
       "      <td>NaN</td>\n",
       "      <td>NaN</td>\n",
       "      <td>0</td>\n",
       "      <td>4</td>\n",
       "      <td>2010</td>\n",
       "      <td>WD</td>\n",
       "      <td>Normal</td>\n",
       "    </tr>\n",
       "    <tr>\n",
       "      <th>4</th>\n",
       "      <td>5</td>\n",
       "      <td>527105010</td>\n",
       "      <td>1629</td>\n",
       "      <td>189900</td>\n",
       "      <td>60</td>\n",
       "      <td>RL</td>\n",
       "      <td>74.0</td>\n",
       "      <td>13830</td>\n",
       "      <td>Pave</td>\n",
       "      <td>NaN</td>\n",
       "      <td>...</td>\n",
       "      <td>0</td>\n",
       "      <td>0</td>\n",
       "      <td>NaN</td>\n",
       "      <td>MnPrv</td>\n",
       "      <td>NaN</td>\n",
       "      <td>0</td>\n",
       "      <td>3</td>\n",
       "      <td>2010</td>\n",
       "      <td>WD</td>\n",
       "      <td>Normal</td>\n",
       "    </tr>\n",
       "  </tbody>\n",
       "</table>\n",
       "<p>5 rows × 82 columns</p>\n",
       "</div>"
      ],
      "text/plain": [
       "   Order        PID  area   price  MS.SubClass MS.Zoning  Lot.Frontage  \\\n",
       "0      1  526301100  1656  215000           20        RL         141.0   \n",
       "1      2  526350040   896  105000           20        RH          80.0   \n",
       "2      3  526351010  1329  172000           20        RL          81.0   \n",
       "3      4  526353030  2110  244000           20        RL          93.0   \n",
       "4      5  527105010  1629  189900           60        RL          74.0   \n",
       "\n",
       "   Lot.Area Street Alley  ... Screen.Porch Pool.Area Pool.QC  Fence  \\\n",
       "0     31770   Pave   NaN  ...            0         0     NaN    NaN   \n",
       "1     11622   Pave   NaN  ...          120         0     NaN  MnPrv   \n",
       "2     14267   Pave   NaN  ...            0         0     NaN    NaN   \n",
       "3     11160   Pave   NaN  ...            0         0     NaN    NaN   \n",
       "4     13830   Pave   NaN  ...            0         0     NaN  MnPrv   \n",
       "\n",
       "  Misc.Feature Misc.Val Mo.Sold Yr.Sold Sale.Type Sale.Condition  \n",
       "0          NaN        0       5    2010       WD          Normal  \n",
       "1          NaN        0       6    2010       WD          Normal  \n",
       "2         Gar2    12500       6    2010       WD          Normal  \n",
       "3          NaN        0       4    2010       WD          Normal  \n",
       "4          NaN        0       3    2010       WD          Normal  \n",
       "\n",
       "[5 rows x 82 columns]"
      ]
     },
     "execution_count": 12,
     "metadata": {},
     "output_type": "execute_result"
    }
   ],
   "source": [
    "ames = pd.read_csv(r\"data\\ames_prices.csv\")\n",
    "ames.head()"
   ]
  },
  {
   "cell_type": "code",
   "execution_count": 14,
   "id": "8c86339a",
   "metadata": {},
   "outputs": [],
   "source": [
    "# Simulate Function\n",
    "## Our statistic to bootstrap:\n",
    "def stat(x):\n",
    "    stat = np.mean(x)\n",
    "    return stat\n",
    "\n",
    "def simulate(var, df, fcn, S=1000, plot=True):\n",
    "    ''' Bootstrap simulation code. '''    \n",
    "    x = df[var]\n",
    "\n",
    "    estimates = []\n",
    "    for s in range(S):\n",
    "        # Draw a new sample, with replacement:\n",
    "        x_s = x.sample(frac=1.0,replace=True)\n",
    "        # Compute statistic:\n",
    "        stat_s = fcn(x_s)\n",
    "        # Append estimate:\n",
    "        estimates.append(stat_s)\n",
    "    estimates = np.array(estimates) # Convert estimates list to numpy array\n",
    "\n",
    "    ## or in one line, \n",
    "    #estimates = [fcn(x.sample(frac=1.0,replace=True)) for s in range(S)]\n",
    "\n",
    "    if plot:\n",
    "        fig, axes = plt.subplots(1, 3, figsize=(16, 4))  # 1 row, 2 columns\n",
    "        sns.kdeplot(x, ax = axes[0]).set(title='KDE of Underlying Data')\n",
    "        sns.kdeplot(estimates, ax = axes[1]).set(title='KDE of Computed Statistics')\n",
    "        axes[1].axvline(x=fcn(x), color='orange', linestyle='--')\n",
    "        sns.ecdfplot(estimates, ax = axes[2]).set(title='ECDF of Computed Statistics')\n",
    "        axes[2].axvline(x=fcn(x), color='orange', linestyle='--')\n",
    "        plt.show()\n",
    "        print(f'Variance of estimates is: {np.var(estimates)}')\n",
    "        \n",
    "    return estimates"
   ]
  },
  {
   "cell_type": "code",
   "execution_count": 18,
   "id": "ebbf2a21",
   "metadata": {},
   "outputs": [
    {
     "data": {
      "image/png": "[encoded data removed]",
      "text/plain": [
       "<Figure size 1600x400 with 3 Axes>"
      ]
     },
     "metadata": {},
     "output_type": "display_data"
    },
    {
     "name": "stdout",
     "output_type": "stream",
     "text": [
      "Variance of estimates is: 2181960.741379817\n"
     ]
    }
   ],
   "source": [
    "# Simulate Function Call\n",
    "estimates = simulate('price', ames, stat)"
   ]
  },
  {
   "cell_type": "code",
   "execution_count": 28,
   "id": "c217e289",
   "metadata": {},
   "outputs": [
    {
     "name": "stdout",
     "output_type": "stream",
     "text": [
      "The 90% confidence interval for the mean home price after bootstrapping is from 178,408 to 183,227 USD.\n"
     ]
    }
   ],
   "source": [
    "# Interval Function\n",
    "def interval(L, H, estimates):\n",
    "    high = np.quantile(estimates, H)\n",
    "    low = np.quantile(estimates, L)\n",
    "    return high, low\n",
    "\n",
    "H, L = interval(.05, .95, estimates)\n",
    "\n",
    "print(f'The 90% confidence interval for the mean home price after bootstrapping is from {L:,.0f} to {H:,.0f} USD.')"
   ]
  },
  {
   "cell_type": "markdown",
   "id": "8bab3ea0",
   "metadata": {},
   "source": [
    "### Exercise 3: Intro to A/B Testing\n",
    "- Go here, and read about this study: https://www.clinicaltrials.gov/study/NCT01985360\n",
    "- Read the Study Overview and explain what the goal of the trial is \n",
    "- Read the Study Plan and explain how it was designed and why -- there's lots of medical jargon, but the main point is how patients were assigned to interventions. \n",
    "- Read the Results Posted: Go to **Outcome Measures**. Explain how table 1 (\"Incidence of Death from Any Cause or Myocardial Infarction\") is a contingency table. These are the data for this exercise.\n",
    "- What is the difference in surival rates between the invasive strategy and the conservative strategy?\n",
    "- Bootstrap the survival rates for the two groups, and plot them as KDEs and ECDFs against one another\n",
    "- Bootstrap the difference in surival rates, and plot it as a KDE and ECDF\n",
    "- Is this an effective health intervention? Explain your answer clearly\n",
    "\n",
    "This would be what CS people call **A/B testing** and everyone else called a **randomized controlled trial**: Using randomized assignment to detect the difference in outcomes between two groups. (We've just done a non-parametric version of a two-sample t-test.)"
   ]
  },
  {
   "cell_type": "markdown",
   "id": "7aa776b5",
   "metadata": {},
   "source": [
    "### Exercise 4: Prediction Uncertainty\n",
    "- Pick a dataset and two continuous variables.\n",
    "- Recall the LCLS estimator:\n",
    "$$\n",
    "\\hat{y}(z) =  \\frac{ \\frac{1}{N} \\sum_{i=1}^N y_i \\times \\frac{1}{h}k\\left( \\frac{z - x_i}{h} \\right)}{ \\frac{1}{N} \\sum_{i=1}^N \\frac{1}{h} k\\left( \\frac{z - x_i}{h} \\right)}\n",
    "$$\n",
    "with the Epanechnikov kernel and the standard plug-in bandwidth for $h$\n",
    "- Compute and plot this line for 30 bootstrap samples. Notice where there is a lot of variation in the predictions, versus little variation in the predictions.\n",
    "- Now, for any $z$, we can bootstrap a distribution of predictions using the above formula. Do this at the 25th percentile, median, and 75th percentile of $X$.\n",
    "- Now, pick a grid for $z$: Obvious choices are all of the unique values in the data, or an equally spaced grid from the minimum value to the maximum value. For each $z$, bootstrap a sample of predictions and compute the .05 and .95 quantiles. Plot these error curves along with your LCLS estimate. Where are your predictions \"tight\"/reliable? Where are they highly variable/unreliable?"
   ]
  },
  {
   "cell_type": "markdown",
   "id": "cf41588f",
   "metadata": {},
   "source": [
    "### Exercise 5\n",
    "- Extend the `kde` class by adding a method to do bandwidth selection using a simple train-test split\n",
    "- Extend the `kde` class by adding a method to do bandwidth seleciton by $k$-fold cross validation"
   ]
  },
  {
   "cell_type": "markdown",
   "id": "a704aae6",
   "metadata": {},
   "source": [
    "### Exercise 6\n",
    "In this exercise, you're going to do for LCLS what we just did for KDE: Pick the bandwidth \n",
    "\n",
    "Recall, the LCLS estimator is\n",
    "$$\n",
    "\\hat{y}_{N,h}(z) = \\dfrac{\\frac{1}{N} \\sum_{i=1}^N y_i \\times \\frac{1}{h}k\\left(\\frac{z-x_i}{h}\\right)}{\\frac{1}{N} \\sum_{i=1}^N \\frac{1}{h}k\\left(\\frac{z-x_i}{h} \\right)}.\n",
    "$$\n",
    "- Select two numeric variables from a data set. Split the data into training and test sets.\n",
    "- Write a `predict(X_{train},Y_{train},X_{train})` function/method that takes a set of values $X_{test}$ and data $(X_{train},Y_{train})$, and computed predicted values $\\hat{y}(X_{test})$ \n",
    "- Write a function/method that selects the bandwidth by **minimizing** the **mean squared error** of the squared differences between $\\hat{y}(x_j)$ and $y_j$ on the test set:\n",
    "$$\n",
    "MSE(h) = \\frac{1}{N_{test}} \\sum_{j=1}^{N_{test}} (y_j - \\hat{y}_{N_{train},h}(x_j))^2\n",
    "$$\n",
    "Be sure you understand what's happening here: The training data are used to make predictions for each test observation $x_j$, and then the prediction $\\hat{y}(x_j)$ and true value $y_j$ are compared using squared difference"
   ]
  },
  {
   "cell_type": "markdown",
   "id": "b9a6e7ca",
   "metadata": {},
   "source": []
  }
 ],
 "metadata": {
  "kernelspec": {
   "display_name": "ds6001",
   "language": "python",
   "name": "python3"
  },
  "language_info": {
   "codemirror_mode": {
    "name": "ipython",
    "version": 3
   },
   "file_extension": ".py",
   "mimetype": "text/x-python",
   "name": "python",
   "nbconvert_exporter": "python",
   "pygments_lexer": "ipython3",
   "version": "3.13.5"
  }
 },
 "nbformat": 4,
 "nbformat_minor": 5
}
