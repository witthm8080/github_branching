{
 "cells": [
  {
   "cell_type": "markdown",
   "id": "ff443e6e",
   "metadata": {},
   "source": [
    "# Assignment 4\n",
    "### Do three of six."
   ]
  },
  {
   "cell_type": "markdown",
   "id": "47949236",
   "metadata": {},
   "source": [
    "### Exercise 1: Contingent Comparisons\n",
    "- Load the Minnesota use of force data.\n",
    "- Bootstrap the proportion of missing values for `subject_injury` for each race, and plot the results with grouped KDE and ECDF plots\n",
    "- Describe what you see. When we consider second order uncertainty, how similar or different are the sampling distributions of these proportions? "
   ]
  },
  {
   "cell_type": "markdown",
   "id": "18fdd9ba",
   "metadata": {},
   "source": [
    "### Exercise 2: Invitation to Inference\n",
    "- Run the simulation code line by line and comment what each line is doing, or write your own code to do the resampling\n",
    "- Open the NHANES or Ames prices or College Completion data\n",
    "- Use the above function `simulate` to get a sample of estimates for your statistic and your data\n",
    "- Create a new function, `interval(L,H,estimates)`, that computes the $L$-th and $H$-th quantiles for your estimates, $H>L$\n",
    "- If $L=.05$ and $H=.95$, this is a **90-percent confidence interval**: \"For our statistic, this interval captures the true value of the population parameter 90 percent of the time. (We are 90% **confident** that it includes the true value of the parameter, but the probability that the true parameter lies in this interval is 0 or 1.)\"\n",
    "- We will spend much more time on this later in class, but for people who have done hypothesis testing before, you now know how to do it directly from the data: No central limit theorem required."
   ]
  },
  {
   "cell_type": "code",
   "execution_count": null,
   "id": "b440cf06",
   "metadata": {},
   "outputs": [],
   "source": [
    "# Import Libraries"
   ]
  },
  {
   "cell_type": "markdown",
   "id": "8bab3ea0",
   "metadata": {},
   "source": [
    "### Exercise 3: Intro to A/B Testing\n",
    "- Go here, and read about this study: https://www.clinicaltrials.gov/study/NCT01985360\n",
    "- Read the Study Overview and explain what the goal of the trial is \n",
    "- Read the Study Plan and explain how it was designed and why -- there's lots of medical jargon, but the main point is how patients were assigned to interventions. \n",
    "- Read the Results Posted: Go to **Outcome Measures**. Explain how table 1 (\"Incidence of Death from Any Cause or Myocardial Infarction\") is a contingency table. These are the data for this exercise.\n",
    "- What is the difference in surival rates between the invasive strategy and the conservative strategy?\n",
    "- Bootstrap the survival rates for the two groups, and plot them as KDEs and ECDFs against one another\n",
    "- Bootstrap the difference in surival rates, and plot it as a KDE and ECDF\n",
    "- Is this an effective health intervention? Explain your answer clearly\n",
    "\n",
    "This would be what CS people call **A/B testing** and everyone else called a **randomized controlled trial**: Using randomized assignment to detect the difference in outcomes between two groups. (We've just done a non-parametric version of a two-sample t-test.)"
   ]
  },
  {
   "cell_type": "markdown",
   "id": "7aa776b5",
   "metadata": {},
   "source": [
    "### Exercise 4: Prediction Uncertainty\n",
    "- Pick a dataset and two continuous variables.\n",
    "- Recall the LCLS estimator:\n",
    "$$\n",
    "\\hat{y}(z) =  \\frac{ \\frac{1}{N} \\sum_{i=1}^N y_i \\times \\frac{1}{h}k\\left( \\frac{z - x_i}{h} \\right)}{ \\frac{1}{N} \\sum_{i=1}^N \\frac{1}{h} k\\left( \\frac{z - x_i}{h} \\right)}\n",
    "$$\n",
    "with the Epanechnikov kernel and the standard plug-in bandwidth for $h$\n",
    "- Compute and plot this line for 30 bootstrap samples. Notice where there is a lot of variation in the predictions, versus little variation in the predictions.\n",
    "- Now, for any $z$, we can bootstrap a distribution of predictions using the above formula. Do this at the 25th percentile, median, and 75th percentile of $X$.\n",
    "- Now, pick a grid for $z$: Obvious choices are all of the unique values in the data, or an equally spaced grid from the minimum value to the maximum value. For each $z$, bootstrap a sample of predictions and compute the .05 and .95 quantiles. Plot these error curves along with your LCLS estimate. Where are your predictions \"tight\"/reliable? Where are they highly variable/unreliable?"
   ]
  },
  {
   "cell_type": "markdown",
   "id": "cf41588f",
   "metadata": {},
   "source": [
    "### Exercise 5\n",
    "- Extend the `kde` class by adding a method to do bandwidth selection using a simple train-test split\n",
    "- Extend the `kde` class by adding a method to do bandwidth seleciton by $k$-fold cross validation"
   ]
  },
  {
   "cell_type": "markdown",
   "id": "a704aae6",
   "metadata": {},
   "source": [
    "### Exercise 6\n",
    "In this exercise, you're going to do for LCLS what we just did for KDE: Pick the bandwidth \n",
    "\n",
    "Recall, the LCLS estimator is\n",
    "$$\n",
    "\\hat{y}_{N,h}(z) = \\dfrac{\\frac{1}{N} \\sum_{i=1}^N y_i \\times \\frac{1}{h}k\\left(\\frac{z-x_i}{h}\\right)}{\\frac{1}{N} \\sum_{i=1}^N \\frac{1}{h}k\\left(\\frac{z-x_i}{h} \\right)}.\n",
    "$$\n",
    "- Select two numeric variables from a data set. Split the data into training and test sets.\n",
    "- Write a `predict(X_{train},Y_{train},X_{train})` function/method that takes a set of values $X_{test}$ and data $(X_{train},Y_{train})$, and computed predicted values $\\hat{y}(X_{test})$ \n",
    "- Write a function/method that selects the bandwidth by **minimizing** the **mean squared error** of the squared differences between $\\hat{y}(x_j)$ and $y_j$ on the test set:\n",
    "$$\n",
    "MSE(h) = \\frac{1}{N_{test}} \\sum_{j=1}^{N_{test}} (y_j - \\hat{y}_{N_{train},h}(x_j))^2\n",
    "$$\n",
    "Be sure you understand what's happening here: The training data are used to make predictions for each test observation $x_j$, and then the prediction $\\hat{y}(x_j)$ and true value $y_j$ are compared using squared difference"
   ]
  },
  {
   "cell_type": "markdown",
   "id": "b9a6e7ca",
   "metadata": {},
   "source": []
  }
 ],
 "metadata": {
  "kernelspec": {
   "display_name": "ds6001",
   "language": "python",
   "name": "python3"
  },
  "language_info": {
   "name": "python",
   "version": "3.13.5"
  }
 },
 "nbformat": 4,
 "nbformat_minor": 5
}
